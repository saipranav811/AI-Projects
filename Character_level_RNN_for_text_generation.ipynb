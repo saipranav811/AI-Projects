{
 "cells": [
  {
   "cell_type": "code",
   "execution_count": 9,
   "id": "5676a017-2b5f-4413-8a66-6755fcc4384c",
   "metadata": {},
   "outputs": [],
   "source": [
    "import torch\n",
    "import torch.nn as nn\n",
    "import numpy as np"
   ]
  },
  {
   "cell_type": "code",
   "execution_count": 10,
   "id": "699fddac-5513-4f89-a78f-4b5ae98d1853",
   "metadata": {},
   "outputs": [],
   "source": [
    "# Sample text data for training the model\n",
    "text = \"hello world\\nhello PyTorch\\nhello AI\\nhello chatbot\\nhello language model\""
   ]
  },
  {
   "cell_type": "code",
   "execution_count": 11,
   "id": "3be6f8ae-d894-40e0-8758-4bf75647f951",
   "metadata": {},
   "outputs": [
    {
     "data": {
      "text/plain": [
       "'hello world\\nhello PyTorch\\nhello AI\\nhello chatbot\\nhello language model'"
      ]
     },
     "execution_count": 11,
     "metadata": {},
     "output_type": "execute_result"
    }
   ],
   "source": [
    "text"
   ]
  },
  {
   "cell_type": "code",
   "execution_count": 12,
   "id": "7f76895f-3190-4425-9256-1d78ff4d0692",
   "metadata": {},
   "outputs": [],
   "source": [
    "# Create a mapping from characters to indices\n",
    "chars = sorted(list(set(text)))  # Get unique characters in the text and sort them\n",
    "int_to_char = {i: c for i, c in enumerate(chars)}  # Map index to character\n",
    "char_to_int = {c: i for i, c in int_to_char.items()}  # Map character to index"
   ]
  },
  {
   "cell_type": "code",
   "execution_count": 16,
   "id": "ec5273fe-d4eb-470b-ac0f-9308efad69af",
   "metadata": {},
   "outputs": [
    {
     "data": {
      "text/plain": [
       "{'\\n': 0,\n",
       " ' ': 1,\n",
       " 'A': 2,\n",
       " 'I': 3,\n",
       " 'P': 4,\n",
       " 'T': 5,\n",
       " 'a': 6,\n",
       " 'b': 7,\n",
       " 'c': 8,\n",
       " 'd': 9,\n",
       " 'e': 10,\n",
       " 'g': 11,\n",
       " 'h': 12,\n",
       " 'l': 13,\n",
       " 'm': 14,\n",
       " 'n': 15,\n",
       " 'o': 16,\n",
       " 'r': 17,\n",
       " 't': 18,\n",
       " 'u': 19,\n",
       " 'w': 20,\n",
       " 'y': 21}"
      ]
     },
     "execution_count": 16,
     "metadata": {},
     "output_type": "execute_result"
    }
   ],
   "source": [
    "chars #prints all unique characters \n",
    "int_to_char#gives index to all unique characters \n",
    "char_to_int#gives a character to index"
   ]
  },
  {
   "cell_type": "code",
   "execution_count": 17,
   "id": "4556e16d-4f7d-4b1e-b6fc-d6a8d4be37f9",
   "metadata": {},
   "outputs": [],
   "source": [
    "# Prepare the training data\n",
    "seq_length = 5  # Length of the input sequences\n",
    "step = 1  # Step size for generating sequences"
   ]
  },
  {
   "cell_type": "code",
   "execution_count": 18,
   "id": "43606396-f7e7-4283-84ce-214d465cc19f",
   "metadata": {},
   "outputs": [
    {
     "data": {
      "text/plain": [
       "5"
      ]
     },
     "execution_count": 18,
     "metadata": {},
     "output_type": "execute_result"
    }
   ],
   "source": [
    "seq_length "
   ]
  },
  {
   "cell_type": "code",
   "execution_count": 19,
   "id": "dbd5f3a6-92ad-4041-9bf1-7c0e9811923e",
   "metadata": {},
   "outputs": [
    {
     "data": {
      "text/plain": [
       "1"
      ]
     },
     "execution_count": 19,
     "metadata": {},
     "output_type": "execute_result"
    }
   ],
   "source": [
    "step"
   ]
  },
  {
   "cell_type": "code",
   "execution_count": 20,
   "id": "7014128b-a753-4860-b52e-50afc47f21d8",
   "metadata": {},
   "outputs": [],
   "source": [
    "# Generate sequences and targets\n",
    "sequences = []  # List to hold input sequences\n",
    "targets = []  # List to hold target characters\n",
    "for i in range(0, len(text) - seq_length, step):  # Loop through the text\n",
    "    sequences.append(text[i:i + seq_length])  # Append sequence of characters\n",
    "    targets.append(text[i + seq_length])  # Append the target character"
   ]
  },
  {
   "cell_type": "code",
   "execution_count": 21,
   "id": "7a4b0d50-74cd-4b16-aac8-1260ed61810c",
   "metadata": {},
   "outputs": [
    {
     "data": {
      "text/plain": [
       "['hello',\n",
       " 'ello ',\n",
       " 'llo w',\n",
       " 'lo wo',\n",
       " 'o wor',\n",
       " ' worl',\n",
       " 'world',\n",
       " 'orld\\n',\n",
       " 'rld\\nh',\n",
       " 'ld\\nhe',\n",
       " 'd\\nhel',\n",
       " '\\nhell',\n",
       " 'hello',\n",
       " 'ello ',\n",
       " 'llo P',\n",
       " 'lo Py',\n",
       " 'o PyT',\n",
       " ' PyTo',\n",
       " 'PyTor',\n",
       " 'yTorc',\n",
       " 'Torch',\n",
       " 'orch\\n',\n",
       " 'rch\\nh',\n",
       " 'ch\\nhe',\n",
       " 'h\\nhel',\n",
       " '\\nhell',\n",
       " 'hello',\n",
       " 'ello ',\n",
       " 'llo A',\n",
       " 'lo AI',\n",
       " 'o AI\\n',\n",
       " ' AI\\nh',\n",
       " 'AI\\nhe',\n",
       " 'I\\nhel',\n",
       " '\\nhell',\n",
       " 'hello',\n",
       " 'ello ',\n",
       " 'llo c',\n",
       " 'lo ch',\n",
       " 'o cha',\n",
       " ' chat',\n",
       " 'chatb',\n",
       " 'hatbo',\n",
       " 'atbot',\n",
       " 'tbot\\n',\n",
       " 'bot\\nh',\n",
       " 'ot\\nhe',\n",
       " 't\\nhel',\n",
       " '\\nhell',\n",
       " 'hello',\n",
       " 'ello ',\n",
       " 'llo l',\n",
       " 'lo la',\n",
       " 'o lan',\n",
       " ' lang',\n",
       " 'langu',\n",
       " 'angua',\n",
       " 'nguag',\n",
       " 'guage',\n",
       " 'uage ',\n",
       " 'age m',\n",
       " 'ge mo',\n",
       " 'e mod',\n",
       " ' mode']"
      ]
     },
     "execution_count": 21,
     "metadata": {},
     "output_type": "execute_result"
    }
   ],
   "source": [
    "sequences"
   ]
  },
  {
   "cell_type": "code",
   "execution_count": 22,
   "id": "564a4661-86bb-4b6e-885f-34a23c3eb13a",
   "metadata": {},
   "outputs": [
    {
     "data": {
      "text/plain": [
       "[' ',\n",
       " 'w',\n",
       " 'o',\n",
       " 'r',\n",
       " 'l',\n",
       " 'd',\n",
       " '\\n',\n",
       " 'h',\n",
       " 'e',\n",
       " 'l',\n",
       " 'l',\n",
       " 'o',\n",
       " ' ',\n",
       " 'P',\n",
       " 'y',\n",
       " 'T',\n",
       " 'o',\n",
       " 'r',\n",
       " 'c',\n",
       " 'h',\n",
       " '\\n',\n",
       " 'h',\n",
       " 'e',\n",
       " 'l',\n",
       " 'l',\n",
       " 'o',\n",
       " ' ',\n",
       " 'A',\n",
       " 'I',\n",
       " '\\n',\n",
       " 'h',\n",
       " 'e',\n",
       " 'l',\n",
       " 'l',\n",
       " 'o',\n",
       " ' ',\n",
       " 'c',\n",
       " 'h',\n",
       " 'a',\n",
       " 't',\n",
       " 'b',\n",
       " 'o',\n",
       " 't',\n",
       " '\\n',\n",
       " 'h',\n",
       " 'e',\n",
       " 'l',\n",
       " 'l',\n",
       " 'o',\n",
       " ' ',\n",
       " 'l',\n",
       " 'a',\n",
       " 'n',\n",
       " 'g',\n",
       " 'u',\n",
       " 'a',\n",
       " 'g',\n",
       " 'e',\n",
       " ' ',\n",
       " 'm',\n",
       " 'o',\n",
       " 'd',\n",
       " 'e',\n",
       " 'l']"
      ]
     },
     "execution_count": 22,
     "metadata": {},
     "output_type": "execute_result"
    }
   ],
   "source": [
    "targets"
   ]
  },
  {
   "cell_type": "code",
   "execution_count": 24,
   "id": "efc345aa-ec6c-44ba-8b8b-3c4245e97341",
   "metadata": {},
   "outputs": [],
   "source": [
    "# Convert sequences and targets to integers\n",
    "X = np.array([[char_to_int[char] for char in seq] for seq in sequences])  # Convert sequences to int\n",
    "y = np.array([char_to_int[char] for char in targets])  # Convert targets to int"
   ]
  },
  {
   "cell_type": "code",
   "execution_count": 25,
   "id": "a29135c0-eb0c-4396-9749-928e63b2d7a2",
   "metadata": {},
   "outputs": [],
   "source": [
    "# Convert to PyTorch tensors\n",
    "X = torch.tensor(X, dtype=torch.long)  # Input tensor\n",
    "y = torch.tensor(y, dtype=torch.long)  # Target tensor"
   ]
  },
  {
   "cell_type": "code",
   "execution_count": 26,
   "id": "8a0895a7-98c1-49ca-9a37-79e5b8dddb27",
   "metadata": {},
   "outputs": [
    {
     "data": {
      "text/plain": [
       "tensor([[12, 10, 13, 13, 16],\n",
       "        [10, 13, 13, 16,  1],\n",
       "        [13, 13, 16,  1, 20],\n",
       "        [13, 16,  1, 20, 16],\n",
       "        [16,  1, 20, 16, 17],\n",
       "        [ 1, 20, 16, 17, 13],\n",
       "        [20, 16, 17, 13,  9],\n",
       "        [16, 17, 13,  9,  0],\n",
       "        [17, 13,  9,  0, 12],\n",
       "        [13,  9,  0, 12, 10],\n",
       "        [ 9,  0, 12, 10, 13],\n",
       "        [ 0, 12, 10, 13, 13],\n",
       "        [12, 10, 13, 13, 16],\n",
       "        [10, 13, 13, 16,  1],\n",
       "        [13, 13, 16,  1,  4],\n",
       "        [13, 16,  1,  4, 21],\n",
       "        [16,  1,  4, 21,  5],\n",
       "        [ 1,  4, 21,  5, 16],\n",
       "        [ 4, 21,  5, 16, 17],\n",
       "        [21,  5, 16, 17,  8],\n",
       "        [ 5, 16, 17,  8, 12],\n",
       "        [16, 17,  8, 12,  0],\n",
       "        [17,  8, 12,  0, 12],\n",
       "        [ 8, 12,  0, 12, 10],\n",
       "        [12,  0, 12, 10, 13],\n",
       "        [ 0, 12, 10, 13, 13],\n",
       "        [12, 10, 13, 13, 16],\n",
       "        [10, 13, 13, 16,  1],\n",
       "        [13, 13, 16,  1,  2],\n",
       "        [13, 16,  1,  2,  3],\n",
       "        [16,  1,  2,  3,  0],\n",
       "        [ 1,  2,  3,  0, 12],\n",
       "        [ 2,  3,  0, 12, 10],\n",
       "        [ 3,  0, 12, 10, 13],\n",
       "        [ 0, 12, 10, 13, 13],\n",
       "        [12, 10, 13, 13, 16],\n",
       "        [10, 13, 13, 16,  1],\n",
       "        [13, 13, 16,  1,  8],\n",
       "        [13, 16,  1,  8, 12],\n",
       "        [16,  1,  8, 12,  6],\n",
       "        [ 1,  8, 12,  6, 18],\n",
       "        [ 8, 12,  6, 18,  7],\n",
       "        [12,  6, 18,  7, 16],\n",
       "        [ 6, 18,  7, 16, 18],\n",
       "        [18,  7, 16, 18,  0],\n",
       "        [ 7, 16, 18,  0, 12],\n",
       "        [16, 18,  0, 12, 10],\n",
       "        [18,  0, 12, 10, 13],\n",
       "        [ 0, 12, 10, 13, 13],\n",
       "        [12, 10, 13, 13, 16],\n",
       "        [10, 13, 13, 16,  1],\n",
       "        [13, 13, 16,  1, 13],\n",
       "        [13, 16,  1, 13,  6],\n",
       "        [16,  1, 13,  6, 15],\n",
       "        [ 1, 13,  6, 15, 11],\n",
       "        [13,  6, 15, 11, 19],\n",
       "        [ 6, 15, 11, 19,  6],\n",
       "        [15, 11, 19,  6, 11],\n",
       "        [11, 19,  6, 11, 10],\n",
       "        [19,  6, 11, 10,  1],\n",
       "        [ 6, 11, 10,  1, 14],\n",
       "        [11, 10,  1, 14, 16],\n",
       "        [10,  1, 14, 16,  9],\n",
       "        [ 1, 14, 16,  9, 10]])"
      ]
     },
     "execution_count": 26,
     "metadata": {},
     "output_type": "execute_result"
    }
   ],
   "source": [
    "X"
   ]
  },
  {
   "cell_type": "code",
   "execution_count": 27,
   "id": "0cd06410-69dc-408b-8733-7141bb76872b",
   "metadata": {},
   "outputs": [
    {
     "data": {
      "text/plain": [
       "tensor([ 1, 20, 16, 17, 13,  9,  0, 12, 10, 13, 13, 16,  1,  4, 21,  5, 16, 17,\n",
       "         8, 12,  0, 12, 10, 13, 13, 16,  1,  2,  3,  0, 12, 10, 13, 13, 16,  1,\n",
       "         8, 12,  6, 18,  7, 16, 18,  0, 12, 10, 13, 13, 16,  1, 13,  6, 15, 11,\n",
       "        19,  6, 11, 10,  1, 14, 16,  9, 10, 13])"
      ]
     },
     "execution_count": 27,
     "metadata": {},
     "output_type": "execute_result"
    }
   ],
   "source": [
    "y"
   ]
  },
  {
   "cell_type": "code",
   "execution_count": 28,
   "id": "70a6b204-9549-45b2-8007-5dd6ba19066f",
   "metadata": {},
   "outputs": [],
   "source": [
    "# Define the RNN model\n",
    "class RNN(nn.Module):  # Inherit from nn.Module\n",
    "    def __init__(self, input_size, hidden_size, output_size):\n",
    "        super(RNN, self).__init__()  # Initialize base class\n",
    "        self.hidden_size = hidden_size  # Set hidden layer size\n",
    "        self.rnn = nn.RNN(input_size, hidden_size, batch_first=True)  # RNN layer\n",
    "        self.fc = nn.Linear(hidden_size, output_size)  # Fully connected layer for output\n",
    "\n",
    "    def forward(self, x):  # Define the forward pass\n",
    "        h0 = torch.zeros(1, x.size(0), self.hidden_size)  # Initialize hidden state\n",
    "        out, _ = self.rnn(x, h0)  # Pass input and hidden state through RNN\n",
    "        out = self.fc(out[:, -1, :])  # Take the last time step's output\n",
    "        return out  # Return the output"
   ]
  },
  {
   "cell_type": "code",
   "execution_count": 29,
   "id": "db661ecc-90d2-47cf-999e-e57298dcfd8f",
   "metadata": {},
   "outputs": [],
   "source": [
    "# Model parameters\n",
    "input_size = len(chars)  # Number of unique characters\n",
    "hidden_size = 10  # Size of the hidden layer\n",
    "output_size = len(chars)  # Number of unique characters for output"
   ]
  },
  {
   "cell_type": "code",
   "execution_count": 30,
   "id": "942d48ac-4b10-4dc3-94b0-fc65859f12e1",
   "metadata": {},
   "outputs": [],
   "source": [
    "# Instantiate the model, define loss and optimizer\n",
    "model = RNN(input_size, hidden_size, output_size)  # Create the model instance\n",
    "criterion = nn.CrossEntropyLoss()  # Loss function for multi-class classification\n",
    "optimizer = torch.optim.Adam(model.parameters(), lr=0.01)  # Adam optimizer for training\n"
   ]
  },
  {
   "cell_type": "code",
   "execution_count": 31,
   "id": "3a6aba6d-6b56-4b2e-8c80-c6958bd00b42",
   "metadata": {},
   "outputs": [
    {
     "data": {
      "text/plain": [
       "RNN(\n",
       "  (rnn): RNN(22, 10, batch_first=True)\n",
       "  (fc): Linear(in_features=10, out_features=22, bias=True)\n",
       ")"
      ]
     },
     "execution_count": 31,
     "metadata": {},
     "output_type": "execute_result"
    }
   ],
   "source": [
    "model"
   ]
  },
  {
   "cell_type": "code",
   "execution_count": 32,
   "id": "ecf2923c-1da5-43a5-b0d6-ac84fa2f0711",
   "metadata": {},
   "outputs": [
    {
     "data": {
      "text/plain": [
       "CrossEntropyLoss()"
      ]
     },
     "execution_count": 32,
     "metadata": {},
     "output_type": "execute_result"
    }
   ],
   "source": [
    "criterion"
   ]
  },
  {
   "cell_type": "code",
   "execution_count": 33,
   "id": "dcc47f3d-4939-4114-a393-1066fee751b9",
   "metadata": {},
   "outputs": [
    {
     "data": {
      "text/plain": [
       "Adam (\n",
       "Parameter Group 0\n",
       "    amsgrad: False\n",
       "    betas: (0.9, 0.999)\n",
       "    capturable: False\n",
       "    differentiable: False\n",
       "    eps: 1e-08\n",
       "    foreach: None\n",
       "    fused: None\n",
       "    lr: 0.01\n",
       "    maximize: False\n",
       "    weight_decay: 0\n",
       ")"
      ]
     },
     "execution_count": 33,
     "metadata": {},
     "output_type": "execute_result"
    }
   ],
   "source": [
    "optimizer"
   ]
  },
  {
   "cell_type": "code",
   "execution_count": 34,
   "id": "64e425e5-ba92-4fd2-881d-31d82d069572",
   "metadata": {},
   "outputs": [],
   "source": [
    "# Prepare the input for RNN by one-hot encoding\n",
    "X_one_hot = torch.nn.functional.one_hot(X, num_classes=input_size).float()  # One-hot encode the input\n"
   ]
  },
  {
   "cell_type": "code",
   "execution_count": 35,
   "id": "8ed71253-685f-4f21-bc52-f05836defde5",
   "metadata": {},
   "outputs": [
    {
     "name": "stdout",
     "output_type": "stream",
     "text": [
      "Epoch [100/1000], Loss: 0.3633\n",
      "Epoch [200/1000], Loss: 0.1595\n",
      "Epoch [300/1000], Loss: 0.1403\n",
      "Epoch [400/1000], Loss: 0.1342\n",
      "Epoch [500/1000], Loss: 0.1314\n",
      "Epoch [600/1000], Loss: 0.1299\n",
      "Epoch [700/1000], Loss: 0.1289\n",
      "Epoch [800/1000], Loss: 0.1283\n",
      "Epoch [900/1000], Loss: 0.1278\n",
      "Epoch [1000/1000], Loss: 0.1275\n"
     ]
    }
   ],
   "source": [
    "# Train the model\n",
    "num_epochs = 1000  # Total number of training epochs\n",
    "for epoch in range(num_epochs):  # Loop over epochs\n",
    "    model.train()  # Set model to training mode\n",
    "    optimizer.zero_grad()  # Clear gradients from previous step\n",
    "    outputs = model(X_one_hot)  # Forward pass with one-hot encoded input\n",
    "    loss = criterion(outputs, y)  # Compute loss\n",
    "    loss.backward()  # Backward pass to compute gradients\n",
    "    optimizer.step()  # Update weights based on gradients\n",
    "\n",
    "    if (epoch + 1) % 100 == 0:  # Print loss every 100 epochs\n",
    "        print(f'Epoch [{epoch + 1}/{num_epochs}], Loss: {loss.item():.4f}')\n"
   ]
  },
  {
   "cell_type": "code",
   "execution_count": 38,
   "id": "1059f528-8dbc-4edc-a772-8d08bc7cd929",
   "metadata": {},
   "outputs": [],
   "source": [
    "# Text generation function\n",
    "def generate_text(model, start_string, gen_length=20):  # Function to generate text\n",
    "    model.eval()  # Set model to evaluation mode\n",
    "    input_eval = [char_to_int[s] for s in start_string]  # Convert start string to indices\n",
    "    input_eval = torch.tensor(input_eval, dtype=torch.long).unsqueeze(0)  # Reshape to (1, seq_length)\n",
    "    \n",
    "    generated_text = start_string  # Initialize generated text with start string\n",
    "    with torch.no_grad():  # Disable gradient calculations for evaluation\n",
    "        for _ in range(gen_length):  # Generate characters\n",
    "            input_eval_one_hot = torch.nn.functional.one_hot(input_eval, num_classes=input_size).float()  # One-hot encode\n",
    "            \n",
    "            predictions = model(input_eval_one_hot)  # Get predictions from the model\n",
    "            predicted_char_idx = torch.argmax(predictions[-1]).item()  # Get index of the predicted character\n",
    "            generated_text += int_to_char[predicted_char_idx]  # Append predicted character to generated text\n",
    "            \n",
    "            # Shift input for next prediction\n",
    "            input_eval = torch.cat((input_eval[:, 1:], torch.tensor([[predicted_char_idx]], dtype=torch.long)), dim=1)\n",
    "\n",
    "    return generated_text  # Return the generated text\n",
    "    "
   ]
  },
  {
   "cell_type": "code",
   "execution_count": 39,
   "id": "7ea0a5fc-9552-45b2-b768-7a89ec0a1205",
   "metadata": {},
   "outputs": [
    {
     "name": "stdout",
     "output_type": "stream",
     "text": [
      "Generated text: hello language modelll lo\n"
     ]
    }
   ],
   "source": [
    "# Generate text\n",
    "start_string = \"hello\"  # Start string for text generation\n",
    "generated = generate_text(model, start_string)  # Generate text\n",
    "print(f'Generated text: {generated}')  # Print the generated text"
   ]
  }
 ],
 "metadata": {
  "kernelspec": {
   "display_name": "Python 3 (ipykernel)",
   "language": "python",
   "name": "python3"
  },
  "language_info": {
   "codemirror_mode": {
    "name": "ipython",
    "version": 3
   },
   "file_extension": ".py",
   "mimetype": "text/x-python",
   "name": "python",
   "nbconvert_exporter": "python",
   "pygments_lexer": "ipython3",
   "version": "3.12.4"
  }
 },
 "nbformat": 4,
 "nbformat_minor": 5
}
