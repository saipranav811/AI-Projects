{
 "cells": [
  {
   "cell_type": "code",
   "execution_count": 2,
   "id": "2195972d-d1b7-4f22-9f2b-5d108073a985",
   "metadata": {},
   "outputs": [],
   "source": [
    "import torch"
   ]
  },
  {
   "cell_type": "code",
   "execution_count": 4,
   "id": "677e6bb7-e24d-44c4-816b-2a61f0b84440",
   "metadata": {},
   "outputs": [
    {
     "data": {
      "text/plain": [
       "'2.4.1'"
      ]
     },
     "execution_count": 4,
     "metadata": {},
     "output_type": "execute_result"
    }
   ],
   "source": [
    "torch.__version__"
   ]
  },
  {
   "cell_type": "code",
   "execution_count": 4,
   "id": "7cd64e0c-e26a-4c51-8f19-817efed993ac",
   "metadata": {},
   "outputs": [
    {
     "data": {
      "text/plain": [
       "'2.4.1'"
      ]
     },
     "execution_count": 4,
     "metadata": {},
     "output_type": "execute_result"
    }
   ],
   "source": [
    "torch.__version__"
   ]
  },
  {
   "cell_type": "code",
   "execution_count": 6,
   "id": "80e1e469-88c9-4951-9ed3-905d13bd5d02",
   "metadata": {},
   "outputs": [],
   "source": [
    "import numpy as np "
   ]
  },
  {
   "cell_type": "code",
   "execution_count": 9,
   "id": "13b3133c-6d2c-4087-876f-d2b64109bcb0",
   "metadata": {},
   "outputs": [],
   "source": [
    "lst = [3,4,5,6]\n",
    "arr = np.array(lst)"
   ]
  },
  {
   "cell_type": "code",
   "execution_count": 10,
   "id": "bc6c0d62-bce3-4fd0-a015-3cd7b3934ce5",
   "metadata": {},
   "outputs": [
    {
     "data": {
      "text/plain": [
       "array([3, 4, 5, 6])"
      ]
     },
     "execution_count": 10,
     "metadata": {},
     "output_type": "execute_result"
    }
   ],
   "source": [
    "arr"
   ]
  },
  {
   "cell_type": "code",
   "execution_count": 12,
   "id": "f199e1e3-a621-46e2-b98b-2ac4ce9a999b",
   "metadata": {},
   "outputs": [
    {
     "data": {
      "text/plain": [
       "tensor([3, 4, 5, 6], dtype=torch.int32)"
      ]
     },
     "execution_count": 12,
     "metadata": {},
     "output_type": "execute_result"
    }
   ],
   "source": [
    "#convert numpy to pytorch tensors (Tensors are nothing but replacement of numpy to use the power of GPU and it is a generalized form of vector and matrices which we can easily understand as multidimensional array)\n",
    "\n",
    "tensors = torch.from_numpy(arr) \n",
    "tensors"
   ]
  },
  {
   "cell_type": "code",
   "execution_count": 13,
   "id": "55bedc8d-ac62-4984-b6c3-0b5b324dfb0d",
   "metadata": {},
   "outputs": [
    {
     "data": {
      "text/plain": [
       "tensor([3, 4], dtype=torch.int32)"
      ]
     },
     "execution_count": 13,
     "metadata": {},
     "output_type": "execute_result"
    }
   ],
   "source": [
    "#indexing in tensors its similar to numpy,in array it starts from 0,1,2,....\n",
    "tensors[ :2]  "
   ]
  },
  {
   "cell_type": "code",
   "execution_count": 15,
   "id": "2ef691d3-fe58-4353-ba72-d9ea82382ef5",
   "metadata": {},
   "outputs": [
    {
     "data": {
      "text/plain": [
       "tensor([3, 4, 5, 6], dtype=torch.int32)"
      ]
     },
     "execution_count": 15,
     "metadata": {},
     "output_type": "execute_result"
    }
   ],
   "source": [
    "tensors[0:4]"
   ]
  },
  {
   "cell_type": "code",
   "execution_count": 17,
   "id": "ca0f845e-78d9-43cb-aa28-e0570a34f467",
   "metadata": {},
   "outputs": [
    {
     "data": {
      "text/plain": [
       "tensor([  3,   4,   5, 100], dtype=torch.int32)"
      ]
     },
     "execution_count": 17,
     "metadata": {},
     "output_type": "execute_result"
    }
   ],
   "source": [
    "#disadvantages of from_numpy it uses same location as the array so any changeswe make in tensors also reflected in original arrar \n",
    "tensors[3]=100\n",
    "tensors"
   ]
  },
  {
   "cell_type": "code",
   "execution_count": 18,
   "id": "bd058e5f-5cd5-4c42-bdf9-c53f921cb1e6",
   "metadata": {},
   "outputs": [
    {
     "data": {
      "text/plain": [
       "array([  3,   4,   5, 100])"
      ]
     },
     "execution_count": 18,
     "metadata": {},
     "output_type": "execute_result"
    }
   ],
   "source": [
    "arr"
   ]
  },
  {
   "cell_type": "code",
   "execution_count": 19,
   "id": "f4079134-f81d-42c4-8b59-116ec8838e13",
   "metadata": {},
   "outputs": [
    {
     "data": {
      "text/plain": [
       "tensor([  3,   4,   5, 100], dtype=torch.int32)"
      ]
     },
     "execution_count": 19,
     "metadata": {},
     "output_type": "execute_result"
    }
   ],
   "source": [
    "#To prevent this error we use torch.tensor instead of from_numpy \n",
    "tensors_arr = torch.tensor(arr)\n",
    "tensors_arr "
   ]
  },
  {
   "cell_type": "code",
   "execution_count": 26,
   "id": "00c13832-67e0-48c9-bc7b-b56d978d2d42",
   "metadata": {},
   "outputs": [
    {
     "name": "stdout",
     "output_type": "stream",
     "text": [
      "tensor([  3,   4,   5, 120], dtype=torch.int32)\n",
      "[  3   4   5 100]\n"
     ]
    }
   ],
   "source": [
    "tensors_arr[3]=120\n",
    "print(tensors_arr)\n",
    "print(arr)"
   ]
  },
  {
   "cell_type": "code",
   "execution_count": 27,
   "id": "77527474-0981-47a2-a799-30b7d435de8a",
   "metadata": {},
   "outputs": [
    {
     "data": {
      "text/plain": [
       "tensor([ 9., 11., 13.])"
      ]
     },
     "execution_count": 27,
     "metadata": {},
     "output_type": "execute_result"
    }
   ],
   "source": [
    "#Arithmetic Operations \n",
    "a = torch.tensor([3,4,5], dtype =torch.float)\n",
    "b = torch.tensor([6,7,8], dtype = torch.float)\n",
    "a+b "
   ]
  },
  {
   "cell_type": "code",
   "execution_count": 28,
   "id": "de893c20-e3eb-43a2-8573-c0107f0d89f1",
   "metadata": {},
   "outputs": [
    {
     "data": {
      "text/plain": [
       "tensor([ 9., 11., 13.])"
      ]
     },
     "execution_count": 28,
     "metadata": {},
     "output_type": "execute_result"
    }
   ],
   "source": [
    "torch.add(a,b)"
   ]
  },
  {
   "cell_type": "code",
   "execution_count": 33,
   "id": "25935a15-f755-459e-bae4-ca16b3e5b487",
   "metadata": {},
   "outputs": [
    {
     "data": {
      "text/plain": [
       "tensor([ 9., 11., 13.])"
      ]
     },
     "execution_count": 33,
     "metadata": {},
     "output_type": "execute_result"
    }
   ],
   "source": [
    "c = torch.zeros(3)\n",
    "torch.add(a,b,out=c)"
   ]
  },
  {
   "cell_type": "code",
   "execution_count": 36,
   "id": "ffb6904f-9296-45a8-88a7-72b1e54c0cae",
   "metadata": {},
   "outputs": [],
   "source": [
    "a = torch.tensor([7,8,9],dtype=torch.float)\n",
    "b=torch.tensor([10,12,14],dtype=torch.float)\n"
   ]
  },
  {
   "cell_type": "code",
   "execution_count": 37,
   "id": "ccca33e6-c7fb-4243-b58c-405738327f28",
   "metadata": {},
   "outputs": [
    {
     "data": {
      "text/plain": [
       "tensor(60.)"
      ]
     },
     "execution_count": 37,
     "metadata": {},
     "output_type": "execute_result"
    }
   ],
   "source": [
    "torch.add(a,b).sum()"
   ]
  },
  {
   "cell_type": "code",
   "execution_count": 38,
   "id": "6c31950d-a60c-4264-8307-0ef794bc3c4b",
   "metadata": {},
   "outputs": [],
   "source": [
    "#Dot product and Mult Operations \n",
    "x = torch.tensor([8,12,13],dtype=torch.float)\n",
    "y = torch.tensor([13,19,21],dtype=torch.float)"
   ]
  },
  {
   "cell_type": "code",
   "execution_count": 39,
   "id": "b048c613-a996-4ae6-b0c6-61acdea4287b",
   "metadata": {},
   "outputs": [
    {
     "data": {
      "text/plain": [
       "tensor([104., 228., 273.])"
      ]
     },
     "execution_count": 39,
     "metadata": {},
     "output_type": "execute_result"
    }
   ],
   "source": [
    "x.mul(y)"
   ]
  },
  {
   "cell_type": "code",
   "execution_count": 40,
   "id": "e2f811f6-7cb2-4fb8-8b51-a1d51cf3fa78",
   "metadata": {},
   "outputs": [
    {
     "data": {
      "text/plain": [
       "tensor(605.)"
      ]
     },
     "execution_count": 40,
     "metadata": {},
     "output_type": "execute_result"
    }
   ],
   "source": [
    "x.dot(y)"
   ]
  },
  {
   "cell_type": "code",
   "execution_count": 41,
   "id": "39055cf7-75c5-4ec1-982f-6ee21996b187",
   "metadata": {},
   "outputs": [],
   "source": [
    "#Matrix Multiplication\n",
    "x = torch.tensor([[1,4,2],[1,5,5]],dtype=torch.float)\n",
    "y= torch.tensor([[5,11],[8,6],[9,11]],dtype=torch.float)"
   ]
  },
  {
   "cell_type": "code",
   "execution_count": 45,
   "id": "e2e25dfc-4bec-4b5f-be37-3c6080076d17",
   "metadata": {},
   "outputs": [
    {
     "data": {
      "text/plain": [
       "tensor([[55., 57.],\n",
       "        [90., 96.]])"
      ]
     },
     "execution_count": 45,
     "metadata": {},
     "output_type": "execute_result"
    }
   ],
   "source": [
    "torch.matmul(x,y)"
   ]
  },
  {
   "cell_type": "code",
   "execution_count": 46,
   "id": "70ceabf9-2050-412a-ac33-cd06639bb733",
   "metadata": {},
   "outputs": [
    {
     "data": {
      "text/plain": [
       "tensor([[55., 57.],\n",
       "        [90., 96.]])"
      ]
     },
     "execution_count": 46,
     "metadata": {},
     "output_type": "execute_result"
    }
   ],
   "source": [
    "torch.mm(x,y)"
   ]
  },
  {
   "cell_type": "code",
   "execution_count": 47,
   "id": "8c083755-978b-4e0f-9809-0010d2142d3b",
   "metadata": {},
   "outputs": [
    {
     "data": {
      "text/plain": [
       "tensor([[55., 57.],\n",
       "        [90., 96.]])"
      ]
     },
     "execution_count": 47,
     "metadata": {},
     "output_type": "execute_result"
    }
   ],
   "source": [
    "x@y"
   ]
  }
 ],
 "metadata": {
  "kernelspec": {
   "display_name": "Python 3 (ipykernel)",
   "language": "python",
   "name": "python3"
  },
  "language_info": {
   "codemirror_mode": {
    "name": "ipython",
    "version": 3
   },
   "file_extension": ".py",
   "mimetype": "text/x-python",
   "name": "python",
   "nbconvert_exporter": "python",
   "pygments_lexer": "ipython3",
   "version": "3.12.4"
  }
 },
 "nbformat": 4,
 "nbformat_minor": 5
}
