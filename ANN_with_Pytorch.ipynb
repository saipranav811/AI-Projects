{
 "cells": [
  {
   "cell_type": "code",
   "execution_count": 49,
   "id": "bde43fbd-db0d-4244-bf7b-3790b9f23e73",
   "metadata": {},
   "outputs": [
    {
     "data": {
      "text/html": [
       "<div>\n",
       "<style scoped>\n",
       "    .dataframe tbody tr th:only-of-type {\n",
       "        vertical-align: middle;\n",
       "    }\n",
       "\n",
       "    .dataframe tbody tr th {\n",
       "        vertical-align: top;\n",
       "    }\n",
       "\n",
       "    .dataframe thead th {\n",
       "        text-align: right;\n",
       "    }\n",
       "</style>\n",
       "<table border=\"1\" class=\"dataframe\">\n",
       "  <thead>\n",
       "    <tr style=\"text-align: right;\">\n",
       "      <th></th>\n",
       "      <th>Pregnancies</th>\n",
       "      <th>Glucose</th>\n",
       "      <th>BloodPressure</th>\n",
       "      <th>SkinThickness</th>\n",
       "      <th>Insulin</th>\n",
       "      <th>BMI</th>\n",
       "      <th>DiabetesPedigreeFunction</th>\n",
       "      <th>Age</th>\n",
       "      <th>Outcome</th>\n",
       "    </tr>\n",
       "  </thead>\n",
       "  <tbody>\n",
       "    <tr>\n",
       "      <th>0</th>\n",
       "      <td>6</td>\n",
       "      <td>148</td>\n",
       "      <td>72</td>\n",
       "      <td>35</td>\n",
       "      <td>0</td>\n",
       "      <td>33.6</td>\n",
       "      <td>0.627</td>\n",
       "      <td>50</td>\n",
       "      <td>1</td>\n",
       "    </tr>\n",
       "    <tr>\n",
       "      <th>1</th>\n",
       "      <td>1</td>\n",
       "      <td>85</td>\n",
       "      <td>66</td>\n",
       "      <td>29</td>\n",
       "      <td>0</td>\n",
       "      <td>26.6</td>\n",
       "      <td>0.351</td>\n",
       "      <td>31</td>\n",
       "      <td>0</td>\n",
       "    </tr>\n",
       "    <tr>\n",
       "      <th>2</th>\n",
       "      <td>8</td>\n",
       "      <td>183</td>\n",
       "      <td>64</td>\n",
       "      <td>0</td>\n",
       "      <td>0</td>\n",
       "      <td>23.3</td>\n",
       "      <td>0.672</td>\n",
       "      <td>32</td>\n",
       "      <td>1</td>\n",
       "    </tr>\n",
       "    <tr>\n",
       "      <th>3</th>\n",
       "      <td>1</td>\n",
       "      <td>89</td>\n",
       "      <td>66</td>\n",
       "      <td>23</td>\n",
       "      <td>94</td>\n",
       "      <td>28.1</td>\n",
       "      <td>0.167</td>\n",
       "      <td>21</td>\n",
       "      <td>0</td>\n",
       "    </tr>\n",
       "    <tr>\n",
       "      <th>4</th>\n",
       "      <td>0</td>\n",
       "      <td>137</td>\n",
       "      <td>40</td>\n",
       "      <td>35</td>\n",
       "      <td>168</td>\n",
       "      <td>43.1</td>\n",
       "      <td>2.288</td>\n",
       "      <td>33</td>\n",
       "      <td>1</td>\n",
       "    </tr>\n",
       "  </tbody>\n",
       "</table>\n",
       "</div>"
      ],
      "text/plain": [
       "   Pregnancies  Glucose  BloodPressure  SkinThickness  Insulin   BMI  \\\n",
       "0            6      148             72             35        0  33.6   \n",
       "1            1       85             66             29        0  26.6   \n",
       "2            8      183             64              0        0  23.3   \n",
       "3            1       89             66             23       94  28.1   \n",
       "4            0      137             40             35      168  43.1   \n",
       "\n",
       "   DiabetesPedigreeFunction  Age  Outcome  \n",
       "0                     0.627   50        1  \n",
       "1                     0.351   31        0  \n",
       "2                     0.672   32        1  \n",
       "3                     0.167   21        0  \n",
       "4                     2.288   33        1  "
      ]
     },
     "execution_count": 49,
     "metadata": {},
     "output_type": "execute_result"
    }
   ],
   "source": [
    "import pandas as pd\n",
    "df =pd.read_csv('diabetes.csv')\n",
    "df.head()"
   ]
  },
  {
   "cell_type": "code",
   "execution_count": 50,
   "id": "1e1499ac-034d-4655-b7a0-78db9032e8d6",
   "metadata": {},
   "outputs": [
    {
     "data": {
      "text/plain": [
       "Pregnancies                 0\n",
       "Glucose                     0\n",
       "BloodPressure               0\n",
       "SkinThickness               0\n",
       "Insulin                     0\n",
       "BMI                         0\n",
       "DiabetesPedigreeFunction    0\n",
       "Age                         0\n",
       "Outcome                     0\n",
       "dtype: int64"
      ]
     },
     "execution_count": 50,
     "metadata": {},
     "output_type": "execute_result"
    }
   ],
   "source": [
    "df.isnull().sum()"
   ]
  },
  {
   "cell_type": "code",
   "execution_count": 51,
   "id": "b0e7ae10-54d1-47eb-a555-cc7114e64099",
   "metadata": {},
   "outputs": [],
   "source": [
    "import numpy as np\n",
    "X = df.drop('Outcome',axis=1).values # all my independent variables \n",
    "y = df['Outcome'].values#dependent variable"
   ]
  },
  {
   "cell_type": "code",
   "execution_count": 52,
   "id": "3b40d1c2-ede3-4f65-96c2-975ab7b43b7d",
   "metadata": {},
   "outputs": [],
   "source": [
    "from sklearn.model_selection import train_test_split \n",
    "X_train,X_test,y_train,y_test = train_test_split(X,y,test_size=0.2,random_state=0)"
   ]
  },
  {
   "cell_type": "code",
   "execution_count": 53,
   "id": "85bed188-ef3a-4328-8e24-4c59ca589573",
   "metadata": {},
   "outputs": [],
   "source": [
    "#libraries from pytorch \n",
    "import torch\n",
    "import torch.nn as nn\n",
    "import torch.nn.functional as F"
   ]
  },
  {
   "cell_type": "code",
   "execution_count": 81,
   "id": "b962f38d-f503-49bf-9fca-8be0cfc4c0b5",
   "metadata": {},
   "outputs": [],
   "source": [
    "#### start of pytorch library \n",
    "## creating tensors \n",
    "X_train =torch.FloatTensor(X_train) #for all the independent varaibles the tensors should necessarily convert into float \n",
    "X_test=torch.FloatTensor(X_test)\n"
   ]
  },
  {
   "cell_type": "code",
   "execution_count": 55,
   "id": "9a608862-cdc5-476b-b931-7127fe79b0c9",
   "metadata": {},
   "outputs": [],
   "source": [
    "y_train=torch.LongTensor(y_train)\n",
    "y_test=torch.LongTensor(y_test)"
   ]
  },
  {
   "cell_type": "code",
   "execution_count": 104,
   "id": "b8ad708b-ac0c-42aa-95be-6d06644a8f5c",
   "metadata": {},
   "outputs": [
    {
     "name": "stdout",
     "output_type": "stream",
     "text": [
      "tensor([[-0.0633, -0.0752],\n",
      "        [-0.0540, -0.0513],\n",
      "        [-0.0775, -0.0408],\n",
      "        [-0.0774, -0.0648],\n",
      "        [-0.0689, -0.0760],\n",
      "        [-0.0785, -0.0473],\n",
      "        [-0.0774, -0.0690],\n",
      "        [-0.0354, -0.0436],\n",
      "        [-0.0685, -0.0572],\n",
      "        [-0.0571, -0.0296],\n",
      "        [-0.1017, -0.0667],\n",
      "        [-0.0786, -0.0547],\n",
      "        [-0.0708, -0.0611],\n",
      "        [-0.0002, -0.0493],\n",
      "        [-0.0681, -0.0914],\n",
      "        [-0.0030, -0.0599],\n",
      "        [-0.0508, -0.0311],\n",
      "        [-0.0785, -0.0847],\n",
      "        [-0.0806, -0.0482],\n",
      "        [-0.0390, -0.0204],\n",
      "        [-0.0731, -0.0436],\n",
      "        [-0.0568, -0.0718],\n",
      "        [-0.0698, -0.0619],\n",
      "        [-0.0719, -0.0521],\n",
      "        [-0.0814, -0.0673],\n",
      "        [-0.0839, -0.0815],\n",
      "        [-0.0511, -0.0451],\n",
      "        [-0.0332, -0.0407],\n",
      "        [-0.0460, -0.0490],\n",
      "        [-0.0784, -0.0714],\n",
      "        [-0.0053, -0.0460],\n",
      "        [-0.0279, -0.0407],\n",
      "        [-0.0873, -0.0539],\n",
      "        [-0.0548, -0.0637],\n",
      "        [-0.0856, -0.0805],\n",
      "        [-0.0656, -0.0359],\n",
      "        [-0.0128,  0.0035],\n",
      "        [-0.0642, -0.0585],\n",
      "        [-0.0528, -0.0388],\n",
      "        [-0.0482, -0.0251],\n",
      "        [-0.0955, -0.1071],\n",
      "        [-0.0644, -0.0846],\n",
      "        [-0.0910, -0.0707],\n",
      "        [-0.0533, -0.0283],\n",
      "        [-0.0197, -0.0635],\n",
      "        [-0.1023, -0.0654],\n",
      "        [-0.0820, -0.0664],\n",
      "        [-0.0275, -0.0204],\n",
      "        [-0.0093,  0.0094],\n",
      "        [-0.0730, -0.0573],\n",
      "        [-0.0695, -0.0619],\n",
      "        [-0.0702, -0.0388],\n",
      "        [-0.0097, -0.0462],\n",
      "        [-0.0588, -0.0271],\n",
      "        [-0.0529, -0.0330],\n",
      "        [-0.0532, -0.0384],\n",
      "        [-0.0565, -0.0406],\n",
      "        [-0.0876, -0.0416],\n",
      "        [-0.0773, -0.0515],\n",
      "        [-0.0831, -0.0819],\n",
      "        [-0.0363, -0.0228],\n",
      "        [-0.0742, -0.0425],\n",
      "        [-0.0544, -0.0219],\n",
      "        [-0.0649, -0.0188]])\n"
     ]
    }
   ],
   "source": [
    "#creating model with pytorch \n",
    "class ANN_Model(nn.Module): #This line defines a class called ANN_Model that inherits from nn.Module, which is the base class for all neural network models in PyTorch. By subclassing nn.Module, we are creating a custom neural network model.\n",
    "    def __init__(self,input_features=8,hidden1=20,hidden2=20,out_features=2):#defining functions,The __init__ method is the constructor, which is automatically called when you create an instance of ANN_Model. It initializes the neural network layers.\n",
    "        super().__init__() #super().__init__() calls the constructor of the parent class nn.Module to initialize the model properly.\n",
    "        \n",
    "        #nn.Linear(in_features, out_features) creates a fully connected (or dense) layer. Each layer performs a linear transformation of the form:\n",
    "        self.f_connected1=nn.Linear(input_features,hidden1)#self.f_connected1 = nn.Linear(input_features, hidden1) creates the first fully connected layer with 8 input features and 20 output features (hidden units).\n",
    "        self.f_connected2=nn.Linear(hidden1,hidden2)#self.f_connected2 = nn.Linear(hidden1, hidden2) creates the second fully connected layer with 20 inputs (from the first hidden layer) and 20 outputs (for the second hidden layer).\n",
    "        self.out=nn.Linear(hidden2,out_features)#self.out = nn.Linear(hidden2, out_features) creates the final layer with 20 inputs and 2 output units (for the classification output).\n",
    "    def forward(self,x): #The forward method defines how the data will flow through the network,x: This is the input data passed through the network\n",
    "        x=F.relu(self.f_connected1(x)) #F.relu: Applies the Rectified Linear Unit (ReLU) activation function, which is commonly used to introduce non-linearity in the network. The ReLU function outputs the input directly if it's positive; otherwise, it outputs zero.\n",
    "        x=F.relu(self.f_connected2(x))\n",
    "        x = self.out(x)  # Ensure that the model returns the final output\n",
    "        return x\n",
    "        # Initialize the model\n",
    "model = ANN_Model(input_features=8, hidden1=20, hidden2=20, out_features=2)\n",
    "\n",
    "# Forward pass test\n",
    "with torch.no_grad():\n",
    "    y_pred = model(X_train)\n",
    "    print(y_pred)\n",
    "        "
   ]
  },
  {
   "cell_type": "code",
   "execution_count": 105,
   "id": "a8ea8285-b8a8-4e9b-baa4-086b31f6de55",
   "metadata": {},
   "outputs": [],
   "source": [
    "##instantiate my ANN_Model\n",
    "torch.manual_seed(20)\n",
    "model=ANN_Model()\n"
   ]
  },
  {
   "cell_type": "code",
   "execution_count": 101,
   "id": "0c51c4e2-087a-4f47-9cd5-bc6a930d3185",
   "metadata": {},
   "outputs": [
    {
     "data": {
      "text/plain": [
       "<bound method Module.parameters of ANN_Model(\n",
       "  (f_connected1): Linear(in_features=8, out_features=20, bias=True)\n",
       "  (f_connected2): Linear(in_features=20, out_features=20, bias=True)\n",
       "  (out): Linear(in_features=20, out_features=2, bias=True)\n",
       ")>"
      ]
     },
     "execution_count": 101,
     "metadata": {},
     "output_type": "execute_result"
    }
   ],
   "source": [
    "model.parameters#generators"
   ]
  },
  {
   "cell_type": "code",
   "execution_count": 102,
   "id": "3496b44d-9c4c-4f98-b14c-8a84cd4d3d92",
   "metadata": {},
   "outputs": [],
   "source": [
    "#Backward Propagation -- define the loss function ,define the optimizer \n",
    "loss_function = torch.nn.CrossEntropyLoss()\n",
    "\n",
    "optimizer=torch.optim.Adam(model.parameters(),lr=0.01)#lr is learning rate\n",
    "\n"
   ]
  },
  {
   "cell_type": "code",
   "execution_count": 103,
   "id": "1e0af677-5327-44a9-a66f-5db495ca337b",
   "metadata": {
    "scrolled": true
   },
   "outputs": [
    {
     "name": "stdout",
     "output_type": "stream",
     "text": [
      "Epoch number: 1 and the loss: 0.6843005418777466\n",
      "Epoch number: 11 and the loss: 0.6592413187026978\n",
      "Epoch number: 21 and the loss: 0.6386555433273315\n",
      "Epoch number: 31 and the loss: 0.6034147143363953\n",
      "Epoch number: 41 and the loss: 0.5389418005943298\n",
      "Epoch number: 51 and the loss: 0.4208965003490448\n",
      "Epoch number: 61 and the loss: 0.2929651737213135\n",
      "Epoch number: 71 and the loss: 0.20194165408611298\n",
      "Epoch number: 81 and the loss: 0.14300008118152618\n",
      "Epoch number: 91 and the loss: 0.11006806045770645\n",
      "Epoch number: 101 and the loss: 0.08610998839139938\n",
      "Epoch number: 111 and the loss: 0.07062582671642303\n",
      "Epoch number: 121 and the loss: 0.05852692946791649\n",
      "Epoch number: 131 and the loss: 0.04382341355085373\n",
      "Epoch number: 141 and the loss: 0.03339460864663124\n",
      "Epoch number: 151 and the loss: 0.027455247938632965\n",
      "Epoch number: 161 and the loss: 0.02132510580122471\n",
      "Epoch number: 171 and the loss: 0.01688755862414837\n",
      "Epoch number: 181 and the loss: 0.012846492230892181\n",
      "Epoch number: 191 and the loss: 0.010558662004768848\n",
      "Epoch number: 201 and the loss: 0.008688018657267094\n",
      "Epoch number: 211 and the loss: 0.007086778059601784\n",
      "Epoch number: 221 and the loss: 0.006024732254445553\n",
      "Epoch number: 231 and the loss: 0.005000101402401924\n",
      "Epoch number: 241 and the loss: 0.004198212642222643\n",
      "Epoch number: 251 and the loss: 0.0035789944231510162\n",
      "Epoch number: 261 and the loss: 0.003090569283813238\n",
      "Epoch number: 271 and the loss: 0.0027267010882496834\n",
      "Epoch number: 281 and the loss: 0.0023720806930214167\n",
      "Epoch number: 291 and the loss: 0.0020617994014173746\n",
      "Epoch number: 301 and the loss: 0.0016247262246906757\n",
      "Epoch number: 311 and the loss: 0.0013442516792565584\n",
      "Epoch number: 321 and the loss: 0.0011356695322319865\n",
      "Epoch number: 331 and the loss: 0.0009927419014275074\n",
      "Epoch number: 341 and the loss: 0.0008552778162993491\n",
      "Epoch number: 351 and the loss: 0.0007573321345262229\n",
      "Epoch number: 361 and the loss: 0.0006771043408662081\n",
      "Epoch number: 371 and the loss: 0.0006108590750955045\n",
      "Epoch number: 381 and the loss: 0.0005563623271882534\n",
      "Epoch number: 391 and the loss: 0.0005065841833129525\n",
      "Epoch number: 401 and the loss: 0.00046185089740902185\n",
      "Epoch number: 411 and the loss: 0.0004265473107807338\n",
      "Epoch number: 421 and the loss: 0.0003954252752009779\n",
      "Epoch number: 431 and the loss: 0.0003656641929410398\n",
      "Epoch number: 441 and the loss: 0.00034068914828822017\n",
      "Epoch number: 451 and the loss: 0.0003184113884344697\n",
      "Epoch number: 461 and the loss: 0.0002985280880238861\n",
      "Epoch number: 471 and the loss: 0.00027960457373410463\n",
      "Epoch number: 481 and the loss: 0.0002630285162013024\n",
      "Epoch number: 491 and the loss: 0.0002491737832315266\n"
     ]
    }
   ],
   "source": [
    "\n",
    "epochs = 500\n",
    "final_losses = []\n",
    "\n",
    "for i in range(epochs):\n",
    "    # Forward pass: pass the input through the model\n",
    "    y_pred = model(X_train)  # Call the model directly instead of model.forward(X_train)\n",
    "\n",
    "    # Check if y_pred and y_train are valid tensors\n",
    "    assert y_pred is not None, \"y_pred is None!\"\n",
    "    assert y_train is not None, \"y_train is None!\"\n",
    "\n",
    "    # Compute the loss\n",
    "    loss = loss_function(y_pred, y_train)\n",
    "\n",
    "    # Append the loss for tracking\n",
    "    final_losses.append(loss.item())  # Convert tensor to Python number with .item()\n",
    "\n",
    "    # Print every 10 epochs\n",
    "    if i % 10 == 1:\n",
    "        print(f\"Epoch number: {i} and the loss: {loss.item()}\")\n",
    "\n",
    "    # Backpropagation and optimization\n",
    "    optimizer.zero_grad()  # Reset gradients to zero\n",
    "    loss.backward()        # Compute gradients\n",
    "    optimizer.step()       # Update model parameters\n",
    "\n"
   ]
  },
  {
   "cell_type": "code",
   "execution_count": 106,
   "id": "220b8dc8-783b-4d7a-9abf-2057819d975c",
   "metadata": {},
   "outputs": [],
   "source": [
    "##plot the loss function \n",
    "import matplotlib.pyplot as plt\n",
    "%matplotlib inline"
   ]
  },
  {
   "cell_type": "code",
   "execution_count": 107,
   "id": "20fea481-9b40-46b4-999c-753e5f20ec30",
   "metadata": {},
   "outputs": [
    {
     "data": {
      "text/plain": [
       "<function matplotlib.pyplot.xlabel(xlabel: 'str', fontdict: 'dict[str, Any] | None' = None, labelpad: 'float | None' = None, *, loc: \"Literal['left', 'center', 'right'] | None\" = None, **kwargs) -> 'Text'>"
      ]
     },
     "execution_count": 107,
     "metadata": {},
     "output_type": "execute_result"
    },
    {
     "data": {
      "image/png": "[encoded data removed]",
      "text/plain": [
       "<Figure size 640x480 with 1 Axes>"
      ]
     },
     "metadata": {},
     "output_type": "display_data"
    }
   ],
   "source": [
    "plt.plot(range(epochs),final_losses)\n",
    "plt.ylabel('Loss')\n",
    "plt.xlabel"
   ]
  },
  {
   "cell_type": "code",
   "execution_count": 111,
   "id": "e651a12a-5c72-4c61-ab39-f31a17bd97ab",
   "metadata": {},
   "outputs": [
    {
     "name": "stdout",
     "output_type": "stream",
     "text": [
      "1\n",
      "1\n",
      "1\n",
      "1\n",
      "1\n",
      "1\n",
      "1\n",
      "1\n",
      "0\n",
      "1\n",
      "0\n",
      "1\n",
      "1\n",
      "1\n",
      "1\n",
      "1\n",
      "1\n",
      "1\n",
      "1\n",
      "1\n",
      "1\n",
      "1\n",
      "1\n",
      "1\n",
      "0\n",
      "1\n",
      "1\n",
      "1\n",
      "1\n",
      "1\n",
      "1\n",
      "1\n",
      "1\n",
      "1\n",
      "1\n",
      "1\n",
      "1\n",
      "1\n",
      "1\n",
      "1\n",
      "1\n",
      "1\n",
      "1\n",
      "1\n",
      "0\n",
      "1\n",
      "1\n",
      "1\n",
      "1\n",
      "1\n",
      "1\n",
      "1\n",
      "0\n",
      "1\n",
      "0\n",
      "0\n",
      "1\n",
      "1\n",
      "1\n",
      "1\n",
      "1\n",
      "0\n",
      "1\n",
      "1\n",
      "1\n",
      "1\n",
      "1\n",
      "1\n",
      "1\n",
      "1\n",
      "1\n",
      "1\n",
      "1\n",
      "1\n",
      "1\n",
      "1\n",
      "1\n",
      "1\n",
      "1\n",
      "1\n",
      "1\n",
      "0\n",
      "1\n",
      "1\n",
      "1\n",
      "1\n",
      "1\n",
      "1\n",
      "1\n",
      "1\n",
      "1\n",
      "1\n",
      "1\n",
      "1\n",
      "1\n",
      "1\n",
      "1\n",
      "0\n",
      "1\n",
      "1\n",
      "0\n",
      "1\n",
      "1\n",
      "1\n",
      "1\n",
      "1\n",
      "1\n",
      "1\n",
      "1\n",
      "1\n",
      "1\n",
      "1\n",
      "1\n",
      "1\n",
      "0\n",
      "1\n",
      "0\n",
      "0\n",
      "1\n",
      "1\n",
      "1\n",
      "1\n",
      "1\n",
      "1\n",
      "1\n",
      "1\n",
      "1\n",
      "1\n",
      "1\n",
      "1\n",
      "1\n",
      "1\n",
      "1\n",
      "0\n",
      "1\n",
      "1\n",
      "1\n",
      "1\n",
      "1\n",
      "1\n",
      "1\n",
      "1\n",
      "1\n",
      "1\n",
      "1\n",
      "1\n",
      "1\n",
      "1\n",
      "1\n",
      "0\n",
      "1\n",
      "1\n",
      "1\n",
      "1\n"
     ]
    }
   ],
   "source": [
    "#prediction in X_test data\n",
    "predictions = []\n",
    "with torch.no_grad():\n",
    "    for i,data in enumerate(X_test):\n",
    "        y_pred= model(data)\n",
    "        predictions.append(y_pred.argmax().item())\n",
    "        print(y_pred.argmax().item())\n"
   ]
  },
  {
   "cell_type": "code",
   "execution_count": 112,
   "id": "2bbd69f6-e812-456e-b05a-8fe0b3feec97",
   "metadata": {},
   "outputs": [
    {
     "data": {
      "text/plain": [
       "array([[10, 97],\n",
       "       [ 6, 41]], dtype=int64)"
      ]
     },
     "execution_count": 112,
     "metadata": {},
     "output_type": "execute_result"
    }
   ],
   "source": [
    "from sklearn.metrics import confusion_matrix\n",
    "cm=confusion_matrix(y_test,predictions)\n",
    "cm"
   ]
  },
  {
   "cell_type": "code",
   "execution_count": null,
   "id": "4288e8f8-9a30-44ef-87b3-63b8d1dfba71",
   "metadata": {},
   "outputs": [],
   "source": [
    "#The above confusion martix says I got 97 and 6 correct predictions ,10 and 41 are my wrong results "
   ]
  },
  {
   "cell_type": "code",
   "execution_count": 113,
   "id": "bc5e5dc0-c147-4aab-9e71-4c2bf872e080",
   "metadata": {},
   "outputs": [
    {
     "data": {
      "text/plain": [
       "Text(95.72222222222221, 0.5, 'Predicted values')"
      ]
     },
     "execution_count": 113,
     "metadata": {},
     "output_type": "execute_result"
    },
    {
     "data": {
      "image/png": "[encoded data removed]",
      "text/plain": [
       "<Figure size 1000x600 with 2 Axes>"
      ]
     },
     "metadata": {},
     "output_type": "display_data"
    }
   ],
   "source": [
    "#heatmap\n",
    "plt.figure(figsize=(10,6))\n",
    "sns.heatmap(cm,annot=True)\n",
    "plt.xlabel('Actual values')\n",
    "plt.ylabel('Predicted values')\n"
   ]
  },
  {
   "cell_type": "code",
   "execution_count": 114,
   "id": "b7257019-97ea-48e5-8e5f-118b7b42ab6f",
   "metadata": {},
   "outputs": [
    {
     "data": {
      "text/plain": [
       "0.33116883116883117"
      ]
     },
     "execution_count": 114,
     "metadata": {},
     "output_type": "execute_result"
    }
   ],
   "source": [
    "from sklearn.metrics import accuracy_score\n",
    "score=accuracy_score(y_test,predictions)\n",
    "score"
   ]
  },
  {
   "cell_type": "code",
   "execution_count": 116,
   "id": "dccb1dd3-b669-4d48-bc6d-a83e31721fd1",
   "metadata": {},
   "outputs": [],
   "source": [
    "#save the model \n",
    "torch.save(model,'diabetes.pt')"
   ]
  },
  {
   "cell_type": "code",
   "execution_count": 118,
   "id": "72918e52-9784-4706-9ee0-e20b52d6f224",
   "metadata": {},
   "outputs": [
    {
     "name": "stderr",
     "output_type": "stream",
     "text": [
      "C:\\Users\\TEJ SAI PRANAV REDDY\\AppData\\Local\\Temp\\ipykernel_26816\\4280687347.py:2: FutureWarning: You are using `torch.load` with `weights_only=False` (the current default value), which uses the default pickle module implicitly. It is possible to construct malicious pickle data which will execute arbitrary code during unpickling (See https://github.com/pytorch/pytorch/blob/main/SECURITY.md#untrusted-models for more details). In a future release, the default value for `weights_only` will be flipped to `True`. This limits the functions that could be executed during unpickling. Arbitrary objects will no longer be allowed to be loaded via this mode unless they are explicitly allowlisted by the user via `torch.serialization.add_safe_globals`. We recommend you start setting `weights_only=True` for any use case where you don't have full control of the loaded file. Please open an issue on GitHub for any issues related to this experimental feature.\n",
      "  model = torch.load('diabetes.pt')\n"
     ]
    }
   ],
   "source": [
    "#save and load the model \n",
    "model = torch.load('diabetes.pt')"
   ]
  },
  {
   "cell_type": "code",
   "execution_count": 119,
   "id": "08d26bf9-438c-478e-84f0-56da6919ec8d",
   "metadata": {},
   "outputs": [
    {
     "data": {
      "text/plain": [
       "ANN_Model(\n",
       "  (f_connected1): Linear(in_features=8, out_features=20, bias=True)\n",
       "  (f_connected2): Linear(in_features=20, out_features=20, bias=True)\n",
       "  (out): Linear(in_features=20, out_features=2, bias=True)\n",
       ")"
      ]
     },
     "execution_count": 119,
     "metadata": {},
     "output_type": "execute_result"
    }
   ],
   "source": [
    "model.eval()"
   ]
  }
 ],
 "metadata": {
  "kernelspec": {
   "display_name": "Python 3 (ipykernel)",
   "language": "python",
   "name": "python3"
  },
  "language_info": {
   "codemirror_mode": {
    "name": "ipython",
    "version": 3
   },
   "file_extension": ".py",
   "mimetype": "text/x-python",
   "name": "python",
   "nbconvert_exporter": "python",
   "pygments_lexer": "ipython3",
   "version": "3.12.4"
  }
 },
 "nbformat": 4,
 "nbformat_minor": 5
}
