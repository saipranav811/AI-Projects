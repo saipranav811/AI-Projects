{
 "cells": [
  {
   "cell_type": "code",
   "execution_count": 2,
   "id": "2f266484-8b33-44b8-af5c-3bf25fe8362c",
   "metadata": {},
   "outputs": [],
   "source": [
    "import torch"
   ]
  },
  {
   "cell_type": "code",
   "execution_count": 3,
   "id": "834fc5fb-7bab-451a-a17c-5dfdc9229593",
   "metadata": {},
   "outputs": [],
   "source": [
    "#Back propagation using torch \n",
    "x = torch.tensor(4.0,requires_grad=True)"
   ]
  },
  {
   "cell_type": "code",
   "execution_count": 4,
   "id": "74fc5045-f20f-4b42-a549-9a5d244dbc64",
   "metadata": {},
   "outputs": [
    {
     "data": {
      "text/plain": [
       "tensor(4., requires_grad=True)"
      ]
     },
     "execution_count": 4,
     "metadata": {},
     "output_type": "execute_result"
    }
   ],
   "source": [
    "x"
   ]
  },
  {
   "cell_type": "code",
   "execution_count": 8,
   "id": "b7391505-716b-4368-91fe-e3a3c3a14ee3",
   "metadata": {},
   "outputs": [
    {
     "data": {
      "text/plain": [
       "tensor(16., grad_fn=<PowBackward0>)"
      ]
     },
     "execution_count": 8,
     "metadata": {},
     "output_type": "execute_result"
    }
   ],
   "source": [
    "# Backpropagation using equation y = x^2  which is derivative y = 2x \n",
    "y=x**2\n",
    "y\n"
   ]
  },
  {
   "cell_type": "code",
   "execution_count": 10,
   "id": "be5d3afc-45a7-47c5-8798-1fe57806836b",
   "metadata": {},
   "outputs": [],
   "source": [
    "y.backward()"
   ]
  },
  {
   "cell_type": "code",
   "execution_count": 11,
   "id": "12908750-34e9-4d27-9960-f77cca9591ac",
   "metadata": {},
   "outputs": [
    {
     "name": "stdout",
     "output_type": "stream",
     "text": [
      "tensor(8.)\n"
     ]
    }
   ],
   "source": [
    "print(x.grad) # y = 2*4 "
   ]
  },
  {
   "cell_type": "code",
   "execution_count": 12,
   "id": "a02e9718-245f-41c5-9e02-cc235a50fcd8",
   "metadata": {},
   "outputs": [],
   "source": [
    "lst = [[2.,3.,1.],[4.,5.,3.],[7.,6.,4.]]\n",
    "torch_input = torch.tensor(lst,requires_grad= True)"
   ]
  },
  {
   "cell_type": "code",
   "execution_count": 13,
   "id": "954c2620-2ae6-4baf-b1da-0141aa077e33",
   "metadata": {},
   "outputs": [
    {
     "data": {
      "text/plain": [
       "tensor([[2., 3., 1.],\n",
       "        [4., 5., 3.],\n",
       "        [7., 6., 4.]], requires_grad=True)"
      ]
     },
     "execution_count": 13,
     "metadata": {},
     "output_type": "execute_result"
    }
   ],
   "source": [
    "torch_input"
   ]
  },
  {
   "cell_type": "code",
   "execution_count": 14,
   "id": "17d89753-02bc-4b01-b2fc-5886053b9da0",
   "metadata": {},
   "outputs": [],
   "source": [
    "#y=x**3+x**2\n",
    "y=torch_input**3+torch_input**2"
   ]
  },
  {
   "cell_type": "code",
   "execution_count": 15,
   "id": "0446bba5-7e77-4bef-9298-208cb5c0a8a9",
   "metadata": {},
   "outputs": [
    {
     "data": {
      "text/plain": [
       "tensor([[ 12.,  36.,   2.],\n",
       "        [ 80., 150.,  36.],\n",
       "        [392., 252.,  80.]], grad_fn=<AddBackward0>)"
      ]
     },
     "execution_count": 15,
     "metadata": {},
     "output_type": "execute_result"
    }
   ],
   "source": [
    "y"
   ]
  },
  {
   "cell_type": "code",
   "execution_count": 16,
   "id": "bef3017c-9d87-408c-b531-78f97682eff1",
   "metadata": {},
   "outputs": [],
   "source": [
    "z = y.sum()"
   ]
  },
  {
   "cell_type": "code",
   "execution_count": 17,
   "id": "97fb9463-80ba-4a1d-a2bf-2b23a7306fd5",
   "metadata": {},
   "outputs": [
    {
     "data": {
      "text/plain": [
       "tensor(1040., grad_fn=<SumBackward0>)"
      ]
     },
     "execution_count": 17,
     "metadata": {},
     "output_type": "execute_result"
    }
   ],
   "source": [
    "z"
   ]
  },
  {
   "cell_type": "code",
   "execution_count": 18,
   "id": "878f2637-9f54-4eb7-89b6-46a28c2fef6f",
   "metadata": {},
   "outputs": [],
   "source": [
    "z.backward()  # y = x**3 + x**2 ,## y= 3*x**2 + 2*x\n"
   ]
  },
  {
   "cell_type": "code",
   "execution_count": 19,
   "id": "3f7dd773-c0b8-4349-a85a-159a5d0d6f5c",
   "metadata": {},
   "outputs": [
    {
     "data": {
      "text/plain": [
       "tensor([[ 16.,  33.,   5.],\n",
       "        [ 56.,  85.,  33.],\n",
       "        [161., 120.,  56.]])"
      ]
     },
     "execution_count": 19,
     "metadata": {},
     "output_type": "execute_result"
    }
   ],
   "source": [
    "torch_input.grad"
   ]
  }
 ],
 "metadata": {
  "kernelspec": {
   "display_name": "Python 3 (ipykernel)",
   "language": "python",
   "name": "python3"
  },
  "language_info": {
   "codemirror_mode": {
    "name": "ipython",
    "version": 3
   },
   "file_extension": ".py",
   "mimetype": "text/x-python",
   "name": "python",
   "nbconvert_exporter": "python",
   "pygments_lexer": "ipython3",
   "version": "3.12.4"
  }
 },
 "nbformat": 4,
 "nbformat_minor": 5
}
